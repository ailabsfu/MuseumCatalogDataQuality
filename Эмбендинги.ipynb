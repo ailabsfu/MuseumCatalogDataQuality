{
 "cells": [
  {
   "cell_type": "code",
   "execution_count": 1,
   "id": "61e166d4",
   "metadata": {},
   "outputs": [
    {
     "name": "stdout",
     "output_type": "stream",
     "text": [
      "Requirement already satisfied: torch in c:\\users\\user\\datam\\museumcatalogdataquality\\env\\lib\\site-packages (2.2.2)\n",
      "Requirement already satisfied: numpy in c:\\users\\user\\datam\\museumcatalogdataquality\\env\\lib\\site-packages (1.26.4)\n",
      "Requirement already satisfied: torchvision in c:\\users\\user\\datam\\museumcatalogdataquality\\env\\lib\\site-packages (0.17.2)\n",
      "Requirement already satisfied: filelock in c:\\users\\user\\datam\\museumcatalogdataquality\\env\\lib\\site-packages (from torch) (3.13.4)\n",
      "Requirement already satisfied: networkx in c:\\users\\user\\datam\\museumcatalogdataquality\\env\\lib\\site-packages (from torch) (3.3)\n",
      "Requirement already satisfied: jinja2 in c:\\users\\user\\datam\\museumcatalogdataquality\\env\\lib\\site-packages (from torch) (3.1.3)\n",
      "Requirement already satisfied: sympy in c:\\users\\user\\datam\\museumcatalogdataquality\\env\\lib\\site-packages (from torch) (1.12)\n",
      "Requirement already satisfied: fsspec in c:\\users\\user\\datam\\museumcatalogdataquality\\env\\lib\\site-packages (from torch) (2024.3.1)\n",
      "Requirement already satisfied: typing-extensions>=4.8.0 in c:\\users\\user\\datam\\museumcatalogdataquality\\env\\lib\\site-packages (from torch) (4.11.0)\n",
      "Requirement already satisfied: pillow!=8.3.*,>=5.3.0 in c:\\users\\user\\datam\\museumcatalogdataquality\\env\\lib\\site-packages (from torchvision) (10.3.0)\n",
      "Requirement already satisfied: MarkupSafe>=2.0 in c:\\users\\user\\datam\\museumcatalogdataquality\\env\\lib\\site-packages (from jinja2->torch) (2.1.5)\n",
      "Requirement already satisfied: mpmath>=0.19 in c:\\users\\user\\datam\\museumcatalogdataquality\\env\\lib\\site-packages (from sympy->torch) (1.3.0)\n"
     ]
    },
    {
     "name": "stderr",
     "output_type": "stream",
     "text": [
      "\n",
      "[notice] A new release of pip available: 22.2.2 -> 24.0\n",
      "[notice] To update, run: python.exe -m pip install --upgrade pip\n"
     ]
    }
   ],
   "source": [
    "!pip install torch numpy torch torchvision"
   ]
  },
  {
   "cell_type": "code",
   "execution_count": 2,
   "id": "9da735fb-f217-4344-ac64-5064098a6918",
   "metadata": {},
   "outputs": [
    {
     "name": "stderr",
     "output_type": "stream",
     "text": [
      "c:\\Users\\user\\dataM\\MuseumCatalogDataQuality\\env\\lib\\site-packages\\torchvision\\models\\_utils.py:208: UserWarning: The parameter 'pretrained' is deprecated since 0.13 and may be removed in the future, please use 'weights' instead.\n",
      "  warnings.warn(\n",
      "c:\\Users\\user\\dataM\\MuseumCatalogDataQuality\\env\\lib\\site-packages\\torchvision\\models\\_utils.py:223: UserWarning: Arguments other than a weight enum or `None` for 'weights' are deprecated since 0.13 and may be removed in the future. The current behavior is equivalent to passing `weights=ResNet50_Weights.IMAGENET1K_V1`. You can also use `weights=ResNet50_Weights.DEFAULT` to get the most up-to-date weights.\n",
      "  warnings.warn(msg)\n"
     ]
    },
    {
     "name": "stdout",
     "output_type": "stream",
     "text": [
      "Embeddings shape: (15831, 2048)\n",
      "Labels shape: 15831\n",
      "Number of filenames: 15831\n"
     ]
    }
   ],
   "source": [
    "import torch\n",
    "import numpy as np\n",
    "from torch import nn\n",
    "from torch.utils.data import DataLoader\n",
    "from torchvision import datasets, transforms\n",
    "from torchvision.models import resnet50\n",
    "import os\n",
    "\n",
    "# Определение модели\n",
    "class SimpleResNet(nn.Module):\n",
    "    def __init__(self):\n",
    "        super(SimpleResNet, self).__init__()\n",
    "        self.base_model = resnet50(pretrained=True)\n",
    "        self.base_model.fc = nn.Identity()  # Удаление последнего слоя классификации\n",
    "\n",
    "    def forward(self, x):\n",
    "        return self.base_model(x)\n",
    "\n",
    "# Инициализация модели и перевод ее на доступное устройство\n",
    "device = torch.device(\"cuda\" if torch.cuda.is_available() else \"cpu\")\n",
    "model = SimpleResNet().to(device)\n",
    "model.eval()\n",
    "\n",
    "# Подготовка DataLoader\n",
    "transform = transforms.Compose([\n",
    "    transforms.Resize((256, 256)),\n",
    "    transforms.ToTensor(),\n",
    "    transforms.Normalize(mean=[0.485, 0.456, 0.406], std=[0.229, 0.224, 0.225])\n",
    "])\n",
    "dataset_path = r\"C:/Users/user/Desktop/госкатлог/train_train_2\"  # Путь к вашему датасету\n",
    "dataset = datasets.ImageFolder(dataset_path, transform=transform)\n",
    "dataloader = DataLoader(dataset, batch_size=32, shuffle=False)\n",
    "\n",
    "# Извлечение эмбеддингов\n",
    "def extract_embeddings(dataloader, model):\n",
    "    model.eval()\n",
    "    embeddings = []\n",
    "    labels = []\n",
    "    filenames = []  # Для сохранения имен файлов\n",
    "\n",
    "    with torch.no_grad():\n",
    "        for i, (images, targets) in enumerate(dataloader):\n",
    "            images = images.to(device)\n",
    "            output = model(images)\n",
    "            embeddings.extend(output.cpu().numpy())\n",
    "            # Получаем имена файлов для текущей партии\n",
    "            batch_filenames = [os.path.basename(dataloader.dataset.samples[j][0]) for j in range(i * dataloader.batch_size, min((i + 1) * dataloader.batch_size, len(dataloader.dataset.samples)))]\n",
    "            labels.extend(batch_filenames)  # Теперь labels будет содержать имена файлов\n",
    "            filenames.extend(batch_filenames)\n",
    "\n",
    "    return np.array(embeddings), labels, filenames\n",
    "\n",
    "embeddings, labels, filenames = extract_embeddings(dataloader, model)\n",
    "\n",
    "# Вывод размеров полученных массивов для проверки\n",
    "print(\"Embeddings shape:\", embeddings.shape)\n",
    "print(\"Labels shape:\", len(labels))\n",
    "print(\"Number of filenames:\", len(filenames))\n"
   ]
  },
  {
   "cell_type": "code",
   "execution_count": 3,
   "id": "59fd090d-364d-461a-be25-88f80bbede6d",
   "metadata": {},
   "outputs": [],
   "source": [
    "import numpy as np\n",
    "\n",
    "# Сохранение эмбеддингов и меток\n",
    "np.save('saved_embeddings.npy', embeddings)\n",
    "np.save('saved_labels.npy', labels)"
   ]
  },
  {
   "cell_type": "code",
   "execution_count": 4,
   "id": "fee5ec09-118b-48e9-9c42-25cf34b17284",
   "metadata": {},
   "outputs": [
    {
     "name": "stdout",
     "output_type": "stream",
     "text": [
      "Эмбеддинги:\n",
      "[[0.285463   0.7481798  0.2868925  ... 0.23863004 1.1046811  0.03772978]\n",
      " [0.21932656 0.5549939  0.12329546 ... 0.15431583 0.44666535 0.20698547]\n",
      " [0.32345596 0.12081163 0.1805102  ... 0.316159   0.20825344 0.08155081]\n",
      " ...\n",
      " [0.3693158  2.6201997  0.625854   ... 0.19025482 0.2819961  0.3149265 ]\n",
      " [0.03953381 0.43596387 0.14762373 ... 0.1595026  0.49417347 0.08306289]\n",
      " [0.5131302  1.0380177  0.18909748 ... 0.0777268  0.2264141  0.25405177]]\n",
      "Имена файлов:\n",
      "['14246331.jpg' '14249267.jpg' '15000074.jpg' ... '7750119.jpg'\n",
      " '7750123.jpg' '7750125.jpg']\n"
     ]
    }
   ],
   "source": [
    "import numpy as np\n",
    "\n",
    "# Загрузка файлов с эмбеддингами и именами файлов\n",
    "embeddings = np.load(r'saved_embeddings.npy')\n",
    "filenames = np.load(r'saved_labels.npy')\n",
    "\n",
    "# Вывод информации о содержимом файлов\n",
    "print(\"Эмбеддинги:\")\n",
    "print(embeddings)\n",
    "\n",
    "print(\"Имена файлов:\")\n",
    "print(filenames)\n"
   ]
  }
 ],
 "metadata": {
  "kernelspec": {
   "display_name": "Python 3 (ipykernel)",
   "language": "python",
   "name": "python3"
  },
  "language_info": {
   "codemirror_mode": {
    "name": "ipython",
    "version": 3
   },
   "file_extension": ".py",
   "mimetype": "text/x-python",
   "name": "python",
   "nbconvert_exporter": "python",
   "pygments_lexer": "ipython3",
   "version": "3.10.7"
  }
 },
 "nbformat": 4,
 "nbformat_minor": 5
}
