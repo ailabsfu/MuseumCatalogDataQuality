{
 "cells": [
  {
   "cell_type": "code",
   "execution_count": 2,
   "id": "9da735fb-f217-4344-ac64-5064098a6918",
   "metadata": {},
   "outputs": [
    {
     "name": "stdout",
     "output_type": "stream",
     "text": [
      "Embeddings shape: (15831, 2048)\n",
      "Labels shape: 15831\n",
      "Number of filenames: 15831\n"
     ]
    }
   ],
   "source": [
    "import torch\n",
    "import numpy as np\n",
    "from torch import nn\n",
    "from torch.utils.data import DataLoader\n",
    "from torchvision import datasets, transforms\n",
    "from torchvision.models import resnet50\n",
    "import os\n",
    "from torchvision.models.resnet import ResNet50_Weights\n",
    "\n",
    "# Определение модели\n",
    "class SimpleResNet(nn.Module):\n",
    "    def __init__(self, num_classes):\n",
    "        super().__init__()\n",
    "        self.base_model = resnet50(weights=ResNet50_Weights.IMAGENET1K_V2)\n",
    "        num_ftrs = self.base_model.fc.in_features\n",
    "        self.base_model.fc = nn.Linear(num_ftrs, num_classes)\n",
    "\n",
    "    def forward(self, x):\n",
    "        return self.base_model(x)\n",
    "\n",
    "\n",
    "num_classes = 15\n",
    "device = torch.device(\"cuda\")\n",
    "\n",
    "model = SimpleResNet(num_classes)\n",
    "model.load_state_dict(torch.load(\"C:/Users/user/Desktop/госкатлог/best_model-8b-256picV2.pth\"))\n",
    "model.base_model.fc = nn.Identity()\n",
    "model = model.to(device)\n",
    "model.eval()\n",
    "\n",
    "# Подготовка DataLoader\n",
    "transform = transforms.Compose([\n",
    "    transforms.Resize((256, 256)),\n",
    "    transforms.ToTensor(),\n",
    "    #transforms.Normalize(mean=[0.485, 0.456, 0.406], std=[0.229, 0.224, 0.225])\n",
    "])\n",
    "dataset_path = r\"C:/Users/user/Desktop/госкатлог/train_train_2\"  # Путь к вашему датасету\n",
    "dataset = datasets.ImageFolder(dataset_path, transform=transform)\n",
    "dataloader = DataLoader(dataset, batch_size=32, shuffle=False)\n",
    "\n",
    "# Извлечение эмбеддингов\n",
    "def extract_embeddings(dataloader, model):\n",
    "    model.eval()\n",
    "    embeddings = []\n",
    "    labels = []\n",
    "    filenames = []  # Для сохранения имен файлов\n",
    "\n",
    "    with torch.no_grad():\n",
    "        for i, (images, targets) in enumerate(dataloader):\n",
    "            images = images.to(device)\n",
    "            output = model(images)\n",
    "            embeddings.extend(output.cpu().numpy())\n",
    "            # Получаем имена файлов для текущей партии\n",
    "            batch_filenames = [os.path.basename(dataloader.dataset.samples[j][0]) for j in range(i * dataloader.batch_size, min((i + 1) * dataloader.batch_size, len(dataloader.dataset.samples)))]\n",
    "            labels.extend(batch_filenames)  # Теперь labels будет содержать имена файлов\n",
    "            filenames.extend(batch_filenames)\n",
    "\n",
    "    return np.array(embeddings), labels, filenames\n",
    "\n",
    "embeddings, labels, filenames = extract_embeddings(dataloader, model)\n",
    "\n",
    "# Вывод размеров полученных массивов для проверки\n",
    "print(\"Embeddings shape:\", embeddings.shape)\n",
    "print(\"Labels shape:\", len(labels))\n",
    "print(\"Number of filenames:\", len(filenames))\n"
   ]
  },
  {
   "cell_type": "code",
   "execution_count": 3,
   "id": "59fd090d-364d-461a-be25-88f80bbede6d",
   "metadata": {},
   "outputs": [],
   "source": [
    "import numpy as np\n",
    "\n",
    "# Сохранение эмбеддингов и меток\n",
    "np.save('saved_embeddings.npy', embeddings)\n",
    "np.save('saved_labels.npy', labels)"
   ]
  },
  {
   "cell_type": "code",
   "execution_count": 4,
   "id": "fee5ec09-118b-48e9-9c42-25cf34b17284",
   "metadata": {},
   "outputs": [
    {
     "name": "stdout",
     "output_type": "stream",
     "text": [
      "Эмбеддинги:\n",
      "[[0.931576   0.15719768 0.12142767 ... 0.         1.2334096  0.01679719]\n",
      " [0.5906469  0.4499346  0.07321776 ... 0.         0.68063223 0.08775743]\n",
      " [0.07113336 0.05423784 0.19900262 ... 0.         0.37715548 0.03191456]\n",
      " ...\n",
      " [0.         0.         0.06797829 ... 0.11176834 0.02451316 0.        ]\n",
      " [0.03036493 0.00733673 0.         ... 0.         0.         0.00267379]\n",
      " [0.         0.         0.         ... 0.         0.         0.        ]]\n",
      "Имена файлов:\n",
      "['14246331.jpg' '14249267.jpg' '15000074.jpg' ... '7750119.jpg'\n",
      " '7750123.jpg' '7750125.jpg']\n"
     ]
    }
   ],
   "source": [
    "import numpy as np\n",
    "\n",
    "# Загрузка файлов с эмбеддингами и именами файлов\n",
    "embeddings = np.load(r'saved_embeddings.npy')\n",
    "filenames = np.load(r'saved_labels.npy')\n",
    "\n",
    "# Вывод информации о содержимом файлов\n",
    "print(\"Эмбеддинги:\")\n",
    "print(embeddings)\n",
    "\n",
    "print(\"Имена файлов:\")\n",
    "print(filenames)\n"
   ]
  }
 ],
 "metadata": {
  "kernelspec": {
   "display_name": "Python 3 (ipykernel)",
   "language": "python",
   "name": "python3"
  },
  "language_info": {
   "codemirror_mode": {
    "name": "ipython",
    "version": 3
   },
   "file_extension": ".py",
   "mimetype": "text/x-python",
   "name": "python",
   "nbconvert_exporter": "python",
   "pygments_lexer": "ipython3",
   "version": "3.10.7"
  }
 },
 "nbformat": 4,
 "nbformat_minor": 5
}
